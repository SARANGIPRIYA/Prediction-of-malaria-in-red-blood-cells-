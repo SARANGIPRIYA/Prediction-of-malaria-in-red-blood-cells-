{
 "cells": [
  {
   "cell_type": "markdown",
   "id": "9a6b1629",
   "metadata": {},
   "source": [
    "### import necessary libararies"
   ]
  },
  {
   "cell_type": "code",
   "execution_count": 2,
   "id": "39525e97",
   "metadata": {},
   "outputs": [],
   "source": [
    "# import necessary libararies\n",
    "import os\n",
    "import cv2\n",
    "from PIL import Image\n",
    "import tensorflow as tf\n",
    "from keras import backend as K\n",
    "from keras.models import load_model\n",
    "from tensorflow.keras.preprocessing.image import img_to_array\n",
    "from tensorflow.keras.optimizers import Adam, RMSprop\n",
    "from tensorflow.keras.callbacks import ReduceLROnPlateau\n",
    "from tensorflow.keras.preprocessing.image import ImageDataGenerator"
   ]
  },
  {
   "cell_type": "markdown",
   "id": "75198256",
   "metadata": {},
   "source": [
    "### Data Loading"
   ]
  },
  {
   "cell_type": "code",
   "execution_count": 3,
   "id": "9a694ca4",
   "metadata": {},
   "outputs": [],
   "source": [
    "# loading train,test and validation data\n",
    "train_dir = 'output/train'\n",
    "train_Uninfected_dir = 'output/train/Uninfected'\n",
    "train_Parasitized_dir = 'output/train/Parasitized'\n",
    "test_dir = 'output/test'\n",
    "test_Uninfected_dir = 'output/test/Uninfected'\n",
    "test_Parasitized_dir = 'output/test/Parasitized'\n",
    "valid_dir = 'output/val'\n",
    "valid_Uninfected_dir = 'output/val/Uninfected'\n",
    "valid_Parasitized_dir = 'output/val/Parasitized'"
   ]
  },
  {
   "cell_type": "code",
   "execution_count": 4,
   "id": "73a1bebb",
   "metadata": {},
   "outputs": [],
   "source": [
    "num_Uninfected_train = len(os.listdir(train_Uninfected_dir))\n",
    "num_Parasitized_train = len(os.listdir(train_Parasitized_dir))\n",
    "num_Uninfected_validaition = len(os.listdir(valid_Uninfected_dir))\n",
    "num_Parasitized_validation= len(os.listdir(valid_Parasitized_dir))\n",
    "num_Uninfected_test = len(os.listdir(test_Uninfected_dir))\n",
    "num_Parasitized_test= len(os.listdir(test_Parasitized_dir))"
   ]
  },
  {
   "cell_type": "markdown",
   "id": "2c0c3274",
   "metadata": {},
   "source": [
    "### print the data count in each folder"
   ]
  },
  {
   "cell_type": "code",
   "execution_count": 5,
   "id": "7234f5cf",
   "metadata": {},
   "outputs": [
    {
     "name": "stdout",
     "output_type": "stream",
     "text": [
      "Total Training Uninfected Images 8268\n",
      "Total Training Parasitized Images 8268\n",
      "--\n",
      "Total validation Uninfected Images 4134\n",
      "Total validation Parasitized Images 4134\n",
      "--\n",
      "Total Test Uninfected Images 1378\n",
      "Total Test Parasitized Images 1378\n",
      "Total Training Images 16536\n",
      "--\n",
      "Total Validation Images 8268\n",
      "--\n",
      "Total Testing Images 2756\n"
     ]
    }
   ],
   "source": [
    "# print the data count in each folder\n",
    "print(\"Total Training Uninfected Images\",num_Uninfected_train)\n",
    "print(\"Total Training Parasitized Images\",num_Parasitized_train)\n",
    "print(\"--\")\n",
    "print(\"Total validation Uninfected Images\",num_Uninfected_validaition)\n",
    "print(\"Total validation Parasitized Images\",num_Parasitized_validation)\n",
    "print(\"--\")\n",
    "print(\"Total Test Uninfected Images\", num_Uninfected_test)\n",
    "print(\"Total Test Parasitized Images\",num_Parasitized_test)\n",
    "total_train = num_Uninfected_train+num_Parasitized_train\n",
    "total_validation = num_Uninfected_validaition+num_Parasitized_validation\n",
    "total_test = num_Uninfected_test+num_Parasitized_test\n",
    "print(\"Total Training Images\",total_train)\n",
    "print(\"--\")\n",
    "print(\"Total Validation Images\",total_validation)\n",
    "print(\"--\")\n",
    "print(\"Total Testing Images\",total_test)"
   ]
  },
  {
   "cell_type": "markdown",
   "id": "11ad3b46",
   "metadata": {},
   "source": [
    "### declaring image shape and batch size"
   ]
  },
  {
   "cell_type": "code",
   "execution_count": 6,
   "id": "9505a12f",
   "metadata": {},
   "outputs": [],
   "source": [
    "# declaring image shape and batch size\n",
    "IMG_SHAPE  = 240\n",
    "batch_size = 64"
   ]
  },
  {
   "cell_type": "markdown",
   "id": "da192226",
   "metadata": {},
   "source": [
    "### Data Preprocessing and augmentation"
   ]
  },
  {
   "cell_type": "code",
   "execution_count": 7,
   "id": "083bf05f",
   "metadata": {},
   "outputs": [
    {
     "name": "stdout",
     "output_type": "stream",
     "text": [
      "Found 16534 images belonging to 2 classes.\n",
      "Found 8268 images belonging to 2 classes.\n",
      "Found 2756 images belonging to 2 classes.\n"
     ]
    }
   ],
   "source": [
    "# Data Preprocessing and augmentation\n",
    "image_gen_train = ImageDataGenerator(rescale = 1./255)\n",
    "train_data_gen = image_gen_train.flow_from_directory(batch_size = batch_size,\n",
    "directory = train_dir,\n",
    "shuffle= True,\n",
    "target_size = (IMG_SHAPE,IMG_SHAPE),\n",
    "class_mode = 'binary')\n",
    "image_generator_validation = ImageDataGenerator(rescale=1./255)\n",
    "val_data_gen = image_generator_validation.flow_from_directory(batch_size=batch_size,\n",
    "directory=valid_dir,\n",
    "target_size=(IMG_SHAPE, IMG_SHAPE),\n",
    "class_mode='binary')\n",
    "image_gen_test = ImageDataGenerator(rescale=1./255)\n",
    "test_data_gen = image_gen_test.flow_from_directory(batch_size=batch_size,\n",
    "directory=test_dir,\n",
    "target_size=(IMG_SHAPE, IMG_SHAPE),\n",
    "class_mode='binary')"
   ]
  },
  {
   "cell_type": "code",
   "execution_count": 8,
   "id": "7b068ec3",
   "metadata": {},
   "outputs": [
    {
     "data": {
      "text/plain": [
       "{'Parasitized': 0, 'Uninfected': 1}"
      ]
     },
     "execution_count": 8,
     "metadata": {},
     "output_type": "execute_result"
    }
   ],
   "source": [
    "train_data_gen.class_indices"
   ]
  },
  {
   "cell_type": "markdown",
   "id": "40518091",
   "metadata": {},
   "source": [
    "## cnn model"
   ]
  },
  {
   "cell_type": "code",
   "execution_count": 9,
   "id": "dd8c981a",
   "metadata": {},
   "outputs": [],
   "source": [
    "#intialize the cnn model\n",
    "classifier = tf.keras.Sequential([\n",
    "tf.keras.layers.Conv2D(16,(3,3),activation = tf.nn.relu,input_shape=(IMG_SHAPE,IMG_SHAPE, 3)),\n",
    "tf.keras.layers.MaxPooling2D(2,2),\n",
    "tf.keras.layers.Conv2D(32,(3,3),activation = tf.nn.relu),\n",
    "tf.keras.layers.MaxPooling2D(2,2),\n",
    "tf.keras.layers.Conv2D(64,(3,3),activation = tf.nn.relu),\n",
    "tf.keras.layers.MaxPooling2D(2,2),\n",
    "tf.keras.layers.Conv2D(128,(3,3),activation = tf.nn.relu),\n",
    "tf.keras.layers.MaxPooling2D(2,2),\n",
    "tf.keras.layers.Flatten(),\n",
    "tf.keras.layers.Dropout(0.5),\n",
    "tf.keras.layers.Dense(512,kernel_regularizer = tf.keras.regularizers.l2(0.01), activation = tf.nn.relu),\n",
    "tf.keras.layers.Dense(2,activation = tf.nn.sigmoid)\n",
    "])"
   ]
  },
  {
   "cell_type": "code",
   "execution_count": 10,
   "id": "ae085080",
   "metadata": {},
   "outputs": [],
   "source": [
    "classifier.compile(optimizer='adam', loss=tf.keras.losses.sparse_categorical_crossentropy, metrics=['acc'])"
   ]
  },
  {
   "cell_type": "code",
   "execution_count": 11,
   "id": "9e569d45",
   "metadata": {},
   "outputs": [
    {
     "name": "stdout",
     "output_type": "stream",
     "text": [
      "Model: \"sequential\"\n",
      "_________________________________________________________________\n",
      " Layer (type)                Output Shape              Param #   \n",
      "=================================================================\n",
      " conv2d (Conv2D)             (None, 238, 238, 16)      448       \n",
      "                                                                 \n",
      " max_pooling2d (MaxPooling2D  (None, 119, 119, 16)     0         \n",
      " )                                                               \n",
      "                                                                 \n",
      " conv2d_1 (Conv2D)           (None, 117, 117, 32)      4640      \n",
      "                                                                 \n",
      " max_pooling2d_1 (MaxPooling  (None, 58, 58, 32)       0         \n",
      " 2D)                                                             \n",
      "                                                                 \n",
      " conv2d_2 (Conv2D)           (None, 56, 56, 64)        18496     \n",
      "                                                                 \n",
      " max_pooling2d_2 (MaxPooling  (None, 28, 28, 64)       0         \n",
      " 2D)                                                             \n",
      "                                                                 \n",
      " conv2d_3 (Conv2D)           (None, 26, 26, 128)       73856     \n",
      "                                                                 \n",
      " max_pooling2d_3 (MaxPooling  (None, 13, 13, 128)      0         \n",
      " 2D)                                                             \n",
      "                                                                 \n",
      " flatten (Flatten)           (None, 21632)             0         \n",
      "                                                                 \n",
      " dropout (Dropout)           (None, 21632)             0         \n",
      "                                                                 \n",
      " dense (Dense)               (None, 512)               11076096  \n",
      "                                                                 \n",
      " dense_1 (Dense)             (None, 2)                 1026      \n",
      "                                                                 \n",
      "=================================================================\n",
      "Total params: 11,174,562\n",
      "Trainable params: 11,174,562\n",
      "Non-trainable params: 0\n",
      "_________________________________________________________________\n"
     ]
    }
   ],
   "source": [
    "classifier.summary()"
   ]
  },
  {
   "cell_type": "markdown",
   "id": "be0c28f7",
   "metadata": {},
   "source": [
    "### training the mode"
   ]
  },
  {
   "cell_type": "code",
   "execution_count": 12,
   "id": "4326eaac",
   "metadata": {},
   "outputs": [
    {
     "name": "stdout",
     "output_type": "stream",
     "text": [
      "Epoch 1/5\n",
      "516/516 [==============================] - 262s 508ms/step - loss: 0.7254 - acc: 0.4958 - val_loss: 0.6932 - val_acc: 0.5002\n",
      "Epoch 2/5\n",
      "516/516 [==============================] - 261s 505ms/step - loss: 0.5012 - acc: 0.7706 - val_loss: 0.3641 - val_acc: 0.9089\n",
      "Epoch 3/5\n",
      "516/516 [==============================] - 390s 756ms/step - loss: 0.2552 - acc: 0.9357 - val_loss: 0.2137 - val_acc: 0.9400\n",
      "Epoch 4/5\n",
      "516/516 [==============================] - 380s 736ms/step - loss: 0.2084 - acc: 0.9479 - val_loss: 0.2141 - val_acc: 0.9480\n",
      "Epoch 5/5\n",
      "516/516 [==============================] - 242s 469ms/step - loss: 0.1966 - acc: 0.9542 - val_loss: 0.2041 - val_acc: 0.9545\n"
     ]
    }
   ],
   "source": [
    "# training the model\n",
    "history_classifier = classifier.fit(train_data_gen,\n",
    "steps_per_epoch=(total_train//batch_size),\n",
    "epochs = 5,\n",
    "validation_data=val_data_gen,\n",
    "validation_steps=(total_validation//batch_size),\n",
    "batch_size = batch_size,\n",
    "verbose = 1)"
   ]
  },
  {
   "cell_type": "code",
   "execution_count": 13,
   "id": "f49225fe",
   "metadata": {},
   "outputs": [
    {
     "name": "stdout",
     "output_type": "stream",
     "text": [
      "87/87 [==============================] - 9s 101ms/step - loss: 0.2047 - acc: 0.9546\n",
      "test_loss, test accuracy [0.20470520853996277, 0.9546444416046143]\n"
     ]
    }
   ],
   "source": [
    "# evaluate the model\n",
    "results = classifier.evaluate(test_data_gen,batch_size=batch_size)\n",
    "print(\"test_loss, test accuracy\",results)"
   ]
  },
  {
   "cell_type": "code",
   "execution_count": 14,
   "id": "92dab89f",
   "metadata": {},
   "outputs": [],
   "source": [
    "# model saving\n",
    "classifier.save(\"classification.h5\")"
   ]
  },
  {
   "cell_type": "code",
   "execution_count": 15,
   "id": "8b56828b",
   "metadata": {},
   "outputs": [
    {
     "data": {
      "image/png": "[encoded data removed]",
      "text/plain": [
       "<Figure size 640x480 with 1 Axes>"
      ]
     },
     "metadata": {},
     "output_type": "display_data"
    },
    {
     "data": {
      "text/plain": [
       "<Figure size 640x480 with 0 Axes>"
      ]
     },
     "metadata": {},
     "output_type": "display_data"
    }
   ],
   "source": [
    "#plot graph bw training accuracy and validation accuracy\n",
    "import matplotlib.pyplot as plt\n",
    "acc = history_classifier.history['acc']\n",
    "val_acc = history_classifier.history['val_acc']\n",
    "loss = history_classifier.history['loss']\n",
    "val_loss = history_classifier.history['val_loss']\n",
    "epochs = range(len(acc))\n",
    "plt.plot(epochs, acc, 'r', label='Training accuracy')\n",
    "plt.plot(epochs, val_acc, 'b', label='Validation accuracy')\n",
    "plt.title('Training and validation accuracy')\n",
    "plt.legend(loc=0)\n",
    "plt.figure()\n",
    "plt.show()"
   ]
  },
  {
   "cell_type": "code",
   "execution_count": 16,
   "id": "4872a880",
   "metadata": {},
   "outputs": [
    {
     "data": {
      "image/png": "[encoded data removed]",
      "text/plain": [
       "<Figure size 640x480 with 1 Axes>"
      ]
     },
     "metadata": {},
     "output_type": "display_data"
    },
    {
     "data": {
      "text/plain": [
       "<Figure size 640x480 with 0 Axes>"
      ]
     },
     "metadata": {},
     "output_type": "display_data"
    }
   ],
   "source": [
    "#plot graph bw training loss and validation loss\n",
    "plt.plot(epochs, loss, 'r', label='Training loss')\n",
    "plt.plot(epochs, val_loss, 'b', label='Validation loss')\n",
    "plt.title('Training and validation loss')\n",
    "plt.legend(loc=0)\n",
    "plt.figure()\n",
    "plt.show()"
   ]
  },
  {
   "cell_type": "code",
   "execution_count": 17,
   "id": "45a11845",
   "metadata": {},
   "outputs": [],
   "source": [
    "from sklearn.metrics import classification_report, confusion_matrix"
   ]
  },
  {
   "cell_type": "code",
   "execution_count": 31,
   "id": "bb326a13",
   "metadata": {},
   "outputs": [],
   "source": [
    "# Get the ground truth labels for the test data\n",
    "test_labels = train_data_gen.classes"
   ]
  },
  {
   "cell_type": "code",
   "execution_count": 35,
   "id": "8dc72891",
   "metadata": {},
   "outputs": [
    {
     "name": "stdout",
     "output_type": "stream",
     "text": [
      "516/516 [==============================] - 93s 181ms/step\n"
     ]
    }
   ],
   "source": [
    "# Use the trained model to generate predictions for the test data\n",
    "predictions = classifier.predict(train_data_gen, steps=(total_train//batch_size), verbose=1)"
   ]
  },
  {
   "cell_type": "code",
   "execution_count": 36,
   "id": "b04e871e",
   "metadata": {},
   "outputs": [],
   "source": [
    "import numpy as np\n",
    "# Convert the predictions to class labels\n",
    "predicted_classes = np.argmax(predictions, axis=1)"
   ]
  },
  {
   "cell_type": "code",
   "execution_count": 43,
   "id": "94bf4830",
   "metadata": {},
   "outputs": [
    {
     "data": {
      "image/png": "[encoded data removed]",
      "text/plain": [
       "<Figure size 800x600 with 2 Axes>"
      ]
     },
     "metadata": {},
     "output_type": "display_data"
    }
   ],
   "source": [
    "import seaborn as sns\n",
    "import matplotlib.pyplot as plt\n",
    "\n",
    "# Generate the confusion matrix\n",
    "cm = confusion_matrix(test_labels[0:16512], predicted_classes)\n",
    "\n",
    "# Create a heatmap of the confusion matrix\n",
    "plt.figure(figsize=(8, 6))\n",
    "sns.heatmap(cm, annot=True, cmap=\"Blues\", fmt=\"d\")\n",
    "plt.title(\"Confusion Matrix\")\n",
    "plt.xlabel(\"Predicted Label\")\n",
    "plt.ylabel(\"True Label\")\n",
    "plt.show()\n"
   ]
  },
  {
   "cell_type": "code",
   "execution_count": 41,
   "id": "59157beb",
   "metadata": {},
   "outputs": [
    {
     "name": "stdout",
     "output_type": "stream",
     "text": [
      "              precision    recall  f1-score   support\n",
      "\n",
      "           0       0.50      0.51      0.50      8267\n",
      "           1       0.50      0.49      0.49      8245\n",
      "\n",
      "    accuracy                           0.50     16512\n",
      "   macro avg       0.50      0.50      0.50     16512\n",
      "weighted avg       0.50      0.50      0.50     16512\n",
      "\n"
     ]
    }
   ],
   "source": [
    "report = classification_report(test_labels[0:16512], predicted_classes)\n",
    "print(report)"
   ]
  },
  {
   "cell_type": "code",
   "execution_count": null,
   "id": "71428fea",
   "metadata": {},
   "outputs": [],
   "source": []
  }
 ],
 "metadata": {
  "kernelspec": {
   "display_name": "Python 3 (ipykernel)",
   "language": "python",
   "name": "python3"
  },
  "language_info": {
   "codemirror_mode": {
    "name": "ipython",
    "version": 3
   },
   "file_extension": ".py",
   "mimetype": "text/x-python",
   "name": "python",
   "nbconvert_exporter": "python",
   "pygments_lexer": "ipython3",
   "version": "3.9.16"
  }
 },
 "nbformat": 4,
 "nbformat_minor": 5
}
